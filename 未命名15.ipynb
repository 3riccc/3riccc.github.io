{
 "cells": [
  {
   "cell_type": "code",
   "execution_count": 6,
   "id": "459b984a",
   "metadata": {},
   "outputs": [],
   "source": [
    "import networkx as nx\n",
    "import numpy as np"
   ]
  },
  {
   "cell_type": "code",
   "execution_count": 7,
   "id": "6d22517d",
   "metadata": {},
   "outputs": [],
   "source": [
    "G = nx.barabasi_albert_graph(5,2)"
   ]
  },
  {
   "cell_type": "code",
   "execution_count": 8,
   "id": "b7502147",
   "metadata": {},
   "outputs": [],
   "source": [
    "adj = nx.convert_matrix.to_numpy_array(G)"
   ]
  },
  {
   "cell_type": "code",
   "execution_count": 11,
   "id": "443d63e4",
   "metadata": {},
   "outputs": [],
   "source": [
    "D = np.diag(np.sum(adj,axis=1))"
   ]
  },
  {
   "cell_type": "code",
   "execution_count": 14,
   "id": "1b9461a4",
   "metadata": {},
   "outputs": [],
   "source": [
    "L = D-adj"
   ]
  },
  {
   "cell_type": "code",
   "execution_count": 15,
   "id": "929ffd43",
   "metadata": {},
   "outputs": [
    {
     "data": {
      "text/plain": [
       "array([[ 4., -1., -1., -1., -1.],\n",
       "       [-1.,  3.,  0., -1., -1.],\n",
       "       [-1.,  0.,  1.,  0.,  0.],\n",
       "       [-1., -1.,  0.,  2.,  0.],\n",
       "       [-1., -1.,  0.,  0.,  2.]])"
      ]
     },
     "execution_count": 15,
     "metadata": {},
     "output_type": "execute_result"
    }
   ],
   "source": [
    "L"
   ]
  },
  {
   "cell_type": "code",
   "execution_count": 27,
   "id": "1454cc27",
   "metadata": {},
   "outputs": [],
   "source": [
    "(evl,evs) = np.linalg.eig(L)"
   ]
  },
  {
   "cell_type": "code",
   "execution_count": 28,
   "id": "8c3bd61b",
   "metadata": {},
   "outputs": [
    {
     "data": {
      "text/plain": [
       "(5, 5)"
      ]
     },
     "execution_count": 28,
     "metadata": {},
     "output_type": "execute_result"
    }
   ],
   "source": [
    "evs.shape"
   ]
  },
  {
   "cell_type": "code",
   "execution_count": 29,
   "id": "0c76f6d3",
   "metadata": {},
   "outputs": [
    {
     "data": {
      "text/plain": [
       "array([ 0.89442719, -0.2236068 , -0.2236068 , -0.2236068 , -0.2236068 ])"
      ]
     },
     "execution_count": 29,
     "metadata": {},
     "output_type": "execute_result"
    }
   ],
   "source": [
    "evs[:,0]"
   ]
  },
  {
   "cell_type": "code",
   "execution_count": 30,
   "id": "d04e0f70",
   "metadata": {},
   "outputs": [
    {
     "data": {
      "text/plain": [
       "array([-0.4472136, -0.4472136, -0.4472136, -0.4472136, -0.4472136])"
      ]
     },
     "execution_count": 30,
     "metadata": {},
     "output_type": "execute_result"
    }
   ],
   "source": [
    "evs[:,1]"
   ]
  },
  {
   "cell_type": "code",
   "execution_count": 31,
   "id": "2246c681",
   "metadata": {},
   "outputs": [
    {
     "data": {
      "text/plain": [
       "-1.3877787807814462e-16"
      ]
     },
     "execution_count": 31,
     "metadata": {},
     "output_type": "execute_result"
    }
   ],
   "source": [
    "np.sum(evs[0,:]*evs[4,:])"
   ]
  },
  {
   "cell_type": "code",
   "execution_count": 32,
   "id": "255d4130",
   "metadata": {},
   "outputs": [
    {
     "data": {
      "text/plain": [
       "array([5., 0., 4., 1., 2.])"
      ]
     },
     "execution_count": 32,
     "metadata": {},
     "output_type": "execute_result"
    }
   ],
   "source": [
    "evl"
   ]
  },
  {
   "cell_type": "code",
   "execution_count": 33,
   "id": "5df9c68a",
   "metadata": {},
   "outputs": [],
   "source": [
    "evs1 = np.ones((5,5))"
   ]
  },
  {
   "cell_type": "code",
   "execution_count": 34,
   "id": "353aeff2",
   "metadata": {},
   "outputs": [],
   "source": [
    "evs1[0,0] = 0\n",
    "evs1[2,2] = 0\n",
    "evs1[3,3] = 0\n",
    "evs1[4,4] = 0"
   ]
  },
  {
   "cell_type": "code",
   "execution_count": 35,
   "id": "32a13b48",
   "metadata": {},
   "outputs": [
    {
     "data": {
      "text/plain": [
       "array([[0., 1., 1., 1., 1.],\n",
       "       [1., 1., 1., 1., 1.],\n",
       "       [1., 1., 0., 1., 1.],\n",
       "       [1., 1., 1., 0., 1.],\n",
       "       [1., 1., 1., 1., 0.]])"
      ]
     },
     "execution_count": 35,
     "metadata": {},
     "output_type": "execute_result"
    }
   ],
   "source": [
    "evs1"
   ]
  },
  {
   "cell_type": "code",
   "execution_count": 36,
   "id": "4774579c",
   "metadata": {},
   "outputs": [
    {
     "data": {
      "text/plain": [
       "array([[5., 0., 0., 0., 0.],\n",
       "       [0., 0., 0., 0., 0.],\n",
       "       [0., 0., 4., 0., 0.],\n",
       "       [0., 0., 0., 1., 0.],\n",
       "       [0., 0., 0., 0., 2.]])"
      ]
     },
     "execution_count": 36,
     "metadata": {},
     "output_type": "execute_result"
    }
   ],
   "source": [
    "np.diag(evl)"
   ]
  },
  {
   "cell_type": "code",
   "execution_count": 37,
   "id": "bc443113",
   "metadata": {},
   "outputs": [],
   "source": [
    "Q = evs1\n",
    "D = np.diag(evl)"
   ]
  },
  {
   "cell_type": "code",
   "execution_count": 41,
   "id": "1a59e4b3",
   "metadata": {},
   "outputs": [],
   "source": [
    "L1 = np.dot(np.dot(Q,D),np.linalg.inv(Q))"
   ]
  },
  {
   "cell_type": "code",
   "execution_count": 43,
   "id": "a389a2c9",
   "metadata": {},
   "outputs": [],
   "source": [
    "(evl,evs) = np.linalg.eig(L1)"
   ]
  },
  {
   "cell_type": "code",
   "execution_count": 49,
   "id": "f49a87d4",
   "metadata": {},
   "outputs": [
    {
     "data": {
      "text/plain": [
       "array([ 4.47213595e-01, -1.36054908e-15,  5.00000000e-01,  5.00000000e-01,\n",
       "       -5.00000000e-01])"
      ]
     },
     "execution_count": 49,
     "metadata": {},
     "output_type": "execute_result"
    }
   ],
   "source": [
    "evs[0,:]"
   ]
  },
  {
   "cell_type": "code",
   "execution_count": 48,
   "id": "599c0c37",
   "metadata": {},
   "outputs": [
    {
     "data": {
      "text/plain": [
       "array([-4.4408921e-15,  5.0000000e+00,  4.0000000e+00,  2.0000000e+00,\n",
       "        1.0000000e+00])"
      ]
     },
     "execution_count": 48,
     "metadata": {},
     "output_type": "execute_result"
    }
   ],
   "source": [
    "evl"
   ]
  },
  {
   "cell_type": "code",
   "execution_count": 50,
   "id": "22703c51",
   "metadata": {},
   "outputs": [
    {
     "data": {
      "text/plain": [
       "array([[ 0.,  7., -4., -1., -2.],\n",
       "       [-5., 12., -4., -1., -2.],\n",
       "       [-5.,  8.,  0., -1., -2.],\n",
       "       [-5., 11., -4.,  0., -2.],\n",
       "       [-5., 10., -4., -1.,  0.]])"
      ]
     },
     "execution_count": 50,
     "metadata": {},
     "output_type": "execute_result"
    }
   ],
   "source": [
    "L1"
   ]
  },
  {
   "cell_type": "code",
   "execution_count": null,
   "id": "459a8d5b",
   "metadata": {},
   "outputs": [],
   "source": []
  }
 ],
 "metadata": {
  "kernelspec": {
   "display_name": "Python 3 (ipykernel)",
   "language": "python",
   "name": "python3"
  },
  "language_info": {
   "codemirror_mode": {
    "name": "ipython",
    "version": 3
   },
   "file_extension": ".py",
   "mimetype": "text/x-python",
   "name": "python",
   "nbconvert_exporter": "python",
   "pygments_lexer": "ipython3",
   "version": "3.8.12"
  }
 },
 "nbformat": 4,
 "nbformat_minor": 5
}
